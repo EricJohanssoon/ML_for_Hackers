{
 "cells": [
  {
   "cell_type": "markdown",
   "metadata": {},
   "source": [
    "# Code for Chapter 4 \n",
    "\n",
    "In this case study we will attempt to write a \"priority inbox\" algorithm for ranking email by some measures of importance. We will define these measures based on a set of email features, which moves beyond the simple work counts used in Chapter 3."
   ]
  },
  {
   "cell_type": "markdown",
   "metadata": {},
   "source": [
    "Set the global paths"
   ]
  },
  {
   "cell_type": "code",
   "execution_count": null,
   "metadata": {},
   "outputs": [],
   "source": [
    "import os\n",
    "\n",
    "dataSpamDir = '../03-Classification/data/easy_ham/'\n",
    "mailPaths = os.listdir(dataSpamDir)\n",
    "mailPaths = [f'../03-Classification/data/easy_ham/{i}' for i in mailPaths]"
   ]
  },
  {
   "cell_type": "markdown",
   "metadata": {},
   "source": [
    "We define a set of function that will extract the data for the feature set we have defined to rank email impportance. This includes the following: message body, message source, message subject, and date the message was sent."
   ]
  },
  {
   "cell_type": "code",
   "execution_count": null,
   "metadata": {},
   "outputs": [],
   "source": [
    "#Simply returns the text of a given email message\n",
    "def readMsg(path):\n",
    "    lines = open(path, encoding=\"latin-1\").readlines()\n",
    "    return lines"
   ]
  },
  {
   "cell_type": "code",
   "execution_count": null,
   "metadata": {},
   "outputs": [],
   "source": [
    "#Similar to the function from Chapter 3, this returns only the message body for a given email.\n",
    "def getBodyMsg(lines):\n",
    "    startIndex = lines.index('\\n')\n",
    "    return ''.join(lines[startIndex+1 : len(lines)])"
   ]
  },
  {
   "cell_type": "code",
   "execution_count": null,
   "metadata": {},
   "outputs": [],
   "source": [
    "# Retuns the email address of the sender for a given email message\n",
    "import re\n",
    "\n",
    "def getSendersEmail(lines):\n",
    "    sendersEmail = ''\n",
    "    for line in lines:\n",
    "        if line.startswith('From:'):\n",
    "            sendersEmail = re.search(r'[\\w\\.-]+@[\\w\\.-]+', line).group(0)\n",
    "            break\n",
    "\n",
    "    return sendersEmail.lower()"
   ]
  },
  {
   "cell_type": "code",
   "execution_count": null,
   "metadata": {},
   "outputs": [],
   "source": [
    "# Retuns the subject string for a given email message\n",
    "def getSubject(lines):\n",
    "    prefix = 'Subject:'\n",
    "    subject = ''\n",
    "    for line in lines:\n",
    "        if line.startswith(prefix):\n",
    "            subject = line[len(prefix):].strip()\n",
    "            break\n",
    "\n",
    "    return subject.lower()"
   ]
  },
  {
   "cell_type": "code",
   "execution_count": null,
   "metadata": {},
   "outputs": [],
   "source": [
    "# Retuns the date a given email message was received\n",
    "from datetime import datetime\n",
    "import re\n",
    "\n",
    "def tryParsingDate(text):\n",
    "    date = text.rsplit('(edt)', 1)[0].strip()\n",
    "    date = date.rsplit('(cest)', 1)[0].strip()\n",
    "    date = date.rsplit('(pdt)', 1)[0].strip()\n",
    "    date = date.rsplit('(bst)', 1)[0].strip()\n",
    "    date = date.rsplit('(ist)', 1)[0].strip()\n",
    "    date = date.rsplit('(cdt)', 1)[0].strip()\n",
    "    date = date.rsplit('(est)', 1)[0].strip()\n",
    "    date = date.rsplit('(eest)', 1)[0].strip()\n",
    "    date = date.rsplit('(msd)', 1)[0].strip()\n",
    "    date = date.rsplit('(gmt)', 1)[0].strip()\n",
    "    date = date.rsplit('(pst)', 1)[0].strip()\n",
    "    date = date.rsplit('ut', 1)[0].strip()\n",
    "    date = date.rsplit('edt', 1)[0].strip()\n",
    "    \n",
    "    for fmt in ('%a, %d %b %Y %H:%M:%S %z', '%a, %d %b %Y %H:%M:%S %Z', '%d %b %Y %H:%M:%S %z', '%a, %d %b %Y %H:%M:%S'):\n",
    "        try:\n",
    "            return datetime.strptime(date, fmt)\n",
    "        except ValueError:\n",
    "            pass\n",
    "    raise ValueError('no valid date format found ', date)\n",
    "\n",
    "def getDate(lines):\n",
    "    firstPrefix = 'Date:'\n",
    "    secondPrefix = 'X-Original-Date:'\n",
    "    date = ''\n",
    "    for line in lines:\n",
    "        if line.startswith(firstPrefix):\n",
    "            date = line[len(firstPrefix):].strip()\n",
    "            break\n",
    "        elif line.startswith(secondPrefix):\n",
    "            date = line[len(secondPrefix):].strip()\n",
    "            break\n",
    "    \n",
    "    if date == '':\n",
    "        return ''\n",
    "    \n",
    "    return tryParsingDate(date.lower())"
   ]
  },
  {
   "cell_type": "markdown",
   "metadata": {},
   "source": [
    "## Create DataFrame with data"
   ]
  },
  {
   "cell_type": "code",
   "execution_count": null,
   "metadata": {},
   "outputs": [],
   "source": [
    "# This function ties all of the above helper functions together.\n",
    "# It returns a vector of data containing the feature set\n",
    "# used to categorize data as priority or normal HAM\n",
    "import pandas as pd\n",
    "\n",
    "df = pd.DataFrame({}, columns = ['Date','Email', 'Subject', 'Body', 'Path'])\n",
    "\n",
    "for mailPath in mailPaths:\n",
    "    if ('.ipynb_checkpoints' not in mailPath):\n",
    "        msgLines = readMsg(mailPath)\n",
    "        date = getDate(msgLines)\n",
    "        email = getSendersEmail(msgLines)\n",
    "        subject = getSubject(msgLines)\n",
    "        bodyMsg = getBodyMsg(msgLines)\n",
    "        df = df.append({'Date': date, 'Email': email, 'Subject': subject, 'Body': bodyMsg, 'Path': mailPath}, ignore_index=True)"
   ]
  },
  {
   "cell_type": "code",
   "execution_count": null,
   "metadata": {},
   "outputs": [],
   "source": [
    "# Order the messages chronologically\n",
    "df['Date'] = pd.to_datetime(df.Date, utc=True)\n",
    "df = df.sort_values(by=['Date'])"
   ]
  },
  {
   "cell_type": "code",
   "execution_count": null,
   "metadata": {},
   "outputs": [],
   "source": [
    "df.head()"
   ]
  },
  {
   "cell_type": "code",
   "execution_count": null,
   "metadata": {},
   "outputs": [],
   "source": [
    "df.shape"
   ]
  },
  {
   "cell_type": "markdown",
   "metadata": {},
   "source": [
    "Create train and test dataset"
   ]
  },
  {
   "cell_type": "code",
   "execution_count": null,
   "metadata": {},
   "outputs": [],
   "source": [
    "# We will use the first half of the priority.df to train our priority in-box algorithm.\n",
    "# Later, we will use the second half to test.\n",
    "import numpy as np\n",
    "\n",
    "rows = int(df.shape[0] / 2)\n",
    "df_train = pd.DataFrame(df.iloc[:rows])\n",
    "df_test = pd.DataFrame(df.iloc[rows+1:])\n",
    "\n",
    "print([df_train.shape, df_test.shape])"
   ]
  },
  {
   "cell_type": "markdown",
   "metadata": {},
   "source": [
    "Group messages by thread"
   ]
  },
  {
   "cell_type": "code",
   "execution_count": null,
   "metadata": {},
   "outputs": [],
   "source": [
    "def cleanSubject(subject):\n",
    "    if subject.startswith('re: '):\n",
    "        return subject[4:]\n",
    "    else:\n",
    "        subject\n",
    "    \n",
    "        \n",
    "df_train['Clean_Subject'] = df_train.apply(lambda row: cleanSubject(row.Subject), axis = 1) \n",
    "\n",
    "uniqueSubjects = df_train['Clean_Subject'].unique()\n",
    "uniqueSubjects = pd.DataFrame({'Clean_Subject': uniqueSubjects})\n",
    "uniqueSubjects['Thread_Index'] = uniqueSubjects.index\n",
    "\n",
    "df_train = pd.merge(df_train, uniqueSubjects, on='Clean_Subject')"
   ]
  },
  {
   "cell_type": "markdown",
   "metadata": {},
   "source": [
    "Group messages by mail"
   ]
  },
  {
   "cell_type": "code",
   "execution_count": null,
   "metadata": {},
   "outputs": [],
   "source": [
    "uniqueMails = df_train['Email'].unique()\n",
    "uniqueMails = pd.DataFrame({'Email': uniqueMails})\n",
    "uniqueMails['Email_Index'] = uniqueMails.index\n",
    "\n",
    "df_train = pd.merge(df_train, uniqueMails, on='Email')"
   ]
  },
  {
   "cell_type": "markdown",
   "metadata": {},
   "source": [
    "Show thread and email popularity"
   ]
  },
  {
   "cell_type": "code",
   "execution_count": null,
   "metadata": {},
   "outputs": [],
   "source": [
    "df_train['Clean_Subject'].value_counts()[:10] "
   ]
  },
  {
   "cell_type": "code",
   "execution_count": null,
   "metadata": {},
   "outputs": [],
   "source": [
    "df_train['Email'].value_counts()[:10] "
   ]
  },
  {
   "cell_type": "markdown",
   "metadata": {},
   "source": [
    "Calculating the length of each thread "
   ]
  },
  {
   "cell_type": "code",
   "execution_count": null,
   "metadata": {},
   "outputs": [],
   "source": [
    "df_threads = pd.DataFrame({}, columns = ['Thread_Index', 'Length'])\n",
    "\n",
    "for thread_index in df_train['Thread_Index'].unique():\n",
    "    dates = df_train[df_train['Thread_Index'] == thread_index].Date\n",
    "    length = (dates.max() - dates.min()).total_seconds()\n",
    "    df_threads = df_threads.append({'Thread_Index': thread_index, 'Length': length}, ignore_index=True)\n",
    "\n",
    "df_threads.sort_values(by=['Length'], ascending = False).head()"
   ]
  },
  {
   "cell_type": "markdown",
   "metadata": {},
   "source": [
    "Calculating the number of mais per seconds in each thread"
   ]
  },
  {
   "cell_type": "code",
   "execution_count": null,
   "metadata": {},
   "outputs": [],
   "source": [
    "mails_in_threads = df_train['Thread_Index'].value_counts()\n",
    "\n",
    "def calculateMailsPerSecond(row):\n",
    "    thread_index = row['Thread_Index']\n",
    "    thread_length = row['Length']\n",
    "    \n",
    "    if (thread_index == 0) or (thread_length == 0):\n",
    "        mails_in_thread = 1\n",
    "        mails_per_second = 0\n",
    "    else:\n",
    "        mails_in_thread = mails_in_threads[thread_index]\n",
    "        mails_per_second = mails_in_thread / thread_length\n",
    "    \n",
    "    return mails_per_second\n",
    "    \n",
    "        \n",
    "df_threads['Mails_Per_Second'] = df_threads.apply(lambda row: calculateMailsPerSecond(row), axis = 1) \n",
    "df_threads.head()"
   ]
  },
  {
   "cell_type": "markdown",
   "metadata": {},
   "source": [
    "## Calculating scoring\n",
    "Scoring is a result of multiply two other scores:\n",
    " - scoring of mail popularity, if the mail is more popular (exists more often), the result is greater,\n",
    " - scoring of thread popularity, if the thread contains more messages per second, it's better.\n",
    " \n",
    "We need to add '1' to basic value because we can't calculate logarithm for '0' value. Additionally, we add 10 to result value, because, for value (0,1), the logarithm result is negative."
   ]
  },
  {
   "cell_type": "code",
   "execution_count": null,
   "metadata": {},
   "outputs": [],
   "source": [
    "import math\n",
    "mails_popularity = df_train['Email'].value_counts()\n",
    "\n",
    "def calculateScore(row):\n",
    "    mail_popularity = mails_popularity[row['Email']]\n",
    "    mail_score = 10 + math.log(mail_popularity + 1)\n",
    "    \n",
    "    mails_per_second = df_threads[df_threads['Thread_Index'] == row['Thread_Index']].Mails_Per_Second\n",
    "    mails_per_second_score = 10 + math.log(mails_per_second + 1)\n",
    "    \n",
    "    return mail_score * mails_per_second_score\n",
    "\n",
    "df_train['Score'] = df_train.apply(lambda row: calculateScore(row), axis = 1) "
   ]
  },
  {
   "cell_type": "markdown",
   "metadata": {},
   "source": [
    "Show the result. Messages grouped in the same thread and mail have bigger scoring"
   ]
  },
  {
   "cell_type": "code",
   "execution_count": null,
   "metadata": {},
   "outputs": [],
   "source": [
    "df_train.sort_values(by=['Score'], ascending = False).head()"
   ]
  },
  {
   "cell_type": "markdown",
   "metadata": {},
   "source": [
    "## To be continue"
   ]
  }
 ],
 "metadata": {
  "kernelspec": {
   "display_name": "Python 3",
   "language": "python",
   "name": "python3"
  },
  "language_info": {
   "codemirror_mode": {
    "name": "ipython",
    "version": 3
   },
   "file_extension": ".py",
   "mimetype": "text/x-python",
   "name": "python",
   "nbconvert_exporter": "python",
   "pygments_lexer": "ipython3",
   "version": "3.6.5"
  }
 },
 "nbformat": 4,
 "nbformat_minor": 2
}
