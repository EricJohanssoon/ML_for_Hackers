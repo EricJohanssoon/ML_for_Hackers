{
 "cells": [
  {
   "cell_type": "markdown",
   "metadata": {},
   "source": [
    "# Code for Chapter 4 \n",
    "\n",
    "In this case study we will attempt to write a \"priority inbox\" algorithm for ranking email by some measures of importance. We will define these measures based on a set of email features, which moves beyond the simple work counts used in Chapter 3."
   ]
  },
  {
   "cell_type": "markdown",
   "metadata": {},
   "source": [
    "Set the global paths"
   ]
  },
  {
   "cell_type": "code",
   "execution_count": 1,
   "metadata": {},
   "outputs": [],
   "source": [
    "import os\n",
    "\n",
    "dataSpamDir = '../03-Classification/data/easy_ham/'\n",
    "mailPaths = os.listdir(dataSpamDir)\n",
    "mailPaths = [f'../03-Classification/data/easy_ham/{i}' for i in mailPaths]"
   ]
  },
  {
   "cell_type": "markdown",
   "metadata": {},
   "source": [
    "We define a set of function that will extract the data for the feature set we have defined to rank email impportance. This includes the following: message body, message source, message subject, and date the message was sent."
   ]
  },
  {
   "cell_type": "code",
   "execution_count": 2,
   "metadata": {},
   "outputs": [],
   "source": [
    "#Simply returns the text of a given email message\n",
    "def readMsg(path):\n",
    "    lines = open(path, encoding=\"latin-1\").readlines()\n",
    "    return lines"
   ]
  },
  {
   "cell_type": "code",
   "execution_count": 3,
   "metadata": {},
   "outputs": [],
   "source": [
    "#Similar to the function from Chapter 3, this returns only the message body for a given email.\n",
    "def getBodyMsg(lines):\n",
    "    startIndex = lines.index('\\n')\n",
    "    return ''.join(lines[startIndex+1 : len(lines)])"
   ]
  },
  {
   "cell_type": "code",
   "execution_count": 4,
   "metadata": {},
   "outputs": [],
   "source": [
    "# Retuns the email address of the sender for a given email message\n",
    "import re\n",
    "\n",
    "def getSendersEmail(lines):\n",
    "    sendersEmail = ''\n",
    "    for line in lines:\n",
    "        if line.startswith('From:'):\n",
    "            sendersEmail = re.search(r'[\\w\\.-]+@[\\w\\.-]+', line).group(0)\n",
    "            break\n",
    "\n",
    "    return sendersEmail.lower()"
   ]
  },
  {
   "cell_type": "code",
   "execution_count": 5,
   "metadata": {},
   "outputs": [],
   "source": [
    "# Retuns the subject string for a given email message\n",
    "def getSubject(lines):\n",
    "    prefix = 'Subject:'\n",
    "    subject = ''\n",
    "    for line in lines:\n",
    "        if line.startswith(prefix):\n",
    "            subject = line[len(prefix):].strip()\n",
    "            break\n",
    "\n",
    "    return subject.lower()"
   ]
  },
  {
   "cell_type": "code",
   "execution_count": 6,
   "metadata": {},
   "outputs": [],
   "source": [
    "# Retuns the date a given email message was received\n",
    "from datetime import datetime\n",
    "import re\n",
    "\n",
    "def tryParsingDate(text):\n",
    "    date = text.rsplit('(edt)', 1)[0].strip()\n",
    "    date = date.rsplit('(cest)', 1)[0].strip()\n",
    "    date = date.rsplit('(pdt)', 1)[0].strip()\n",
    "    date = date.rsplit('(bst)', 1)[0].strip()\n",
    "    date = date.rsplit('(ist)', 1)[0].strip()\n",
    "    date = date.rsplit('(cdt)', 1)[0].strip()\n",
    "    date = date.rsplit('(est)', 1)[0].strip()\n",
    "    date = date.rsplit('(eest)', 1)[0].strip()\n",
    "    date = date.rsplit('(msd)', 1)[0].strip()\n",
    "    date = date.rsplit('(gmt)', 1)[0].strip()\n",
    "    date = date.rsplit('(pst)', 1)[0].strip()\n",
    "    date = date.rsplit('ut', 1)[0].strip()\n",
    "    date = date.rsplit('edt', 1)[0].strip()\n",
    "    \n",
    "    for fmt in ('%a, %d %b %Y %H:%M:%S %z', '%a, %d %b %Y %H:%M:%S %Z', '%d %b %Y %H:%M:%S %z', '%a, %d %b %Y %H:%M:%S'):\n",
    "        try:\n",
    "            return datetime.strptime(date, fmt)\n",
    "        except ValueError:\n",
    "            pass\n",
    "    raise ValueError('no valid date format found ', date)\n",
    "\n",
    "def getDate(lines):\n",
    "    firstPrefix = 'Date:'\n",
    "    secondPrefix = 'X-Original-Date:'\n",
    "    date = ''\n",
    "    for line in lines:\n",
    "        if line.startswith(firstPrefix):\n",
    "            date = line[len(firstPrefix):].strip()\n",
    "            break\n",
    "        elif line.startswith(secondPrefix):\n",
    "            date = line[len(secondPrefix):].strip()\n",
    "            break\n",
    "    \n",
    "    if date == '':\n",
    "        return ''\n",
    "    \n",
    "    return tryParsingDate(date.lower())"
   ]
  },
  {
   "cell_type": "markdown",
   "metadata": {},
   "source": [
    "## Create DataFrame with data"
   ]
  },
  {
   "cell_type": "code",
   "execution_count": 7,
   "metadata": {},
   "outputs": [],
   "source": [
    "# This function ties all of the above helper functions together.\n",
    "# It returns a vector of data containing the feature set\n",
    "# used to categorize data as priority or normal HAM\n",
    "import pandas as pd\n",
    "\n",
    "df = pd.DataFrame({}, columns = ['Date','Email', 'Subject', 'Body', 'Path'])\n",
    "\n",
    "for mailPath in mailPaths:\n",
    "    if ('.ipynb_checkpoints' not in mailPath):\n",
    "        msgLines = readMsg(mailPath)\n",
    "        date = getDate(msgLines)\n",
    "        email = getSendersEmail(msgLines)\n",
    "        subject = getSubject(msgLines)\n",
    "        bodyMsg = getBodyMsg(msgLines)\n",
    "        df = df.append({'Date': date, 'Email': email, 'Subject': subject, 'Body': bodyMsg, 'Path': mailPath}, ignore_index=True)"
   ]
  },
  {
   "cell_type": "code",
   "execution_count": 8,
   "metadata": {},
   "outputs": [],
   "source": [
    "# Order the messages chronologically\n",
    "df['Date'] = pd.to_datetime(df.Date, utc=True)\n",
    "df = df.sort_values(by=['Date'])"
   ]
  },
  {
   "cell_type": "code",
   "execution_count": 9,
   "metadata": {},
   "outputs": [
    {
     "data": {
      "text/html": [
       "<div>\n",
       "<style scoped>\n",
       "    .dataframe tbody tr th:only-of-type {\n",
       "        vertical-align: middle;\n",
       "    }\n",
       "\n",
       "    .dataframe tbody tr th {\n",
       "        vertical-align: top;\n",
       "    }\n",
       "\n",
       "    .dataframe thead th {\n",
       "        text-align: right;\n",
       "    }\n",
       "</style>\n",
       "<table border=\"1\" class=\"dataframe\">\n",
       "  <thead>\n",
       "    <tr style=\"text-align: right;\">\n",
       "      <th></th>\n",
       "      <th>Date</th>\n",
       "      <th>Email</th>\n",
       "      <th>Subject</th>\n",
       "      <th>Body</th>\n",
       "      <th>Path</th>\n",
       "    </tr>\n",
       "  </thead>\n",
       "  <tbody>\n",
       "    <tr>\n",
       "      <th>1060</th>\n",
       "      <td>2002-02-01 05:44:14+00:00</td>\n",
       "      <td>robinderbains@shaw.ca</td>\n",
       "      <td>please help a newbie compile mplayer :-)</td>\n",
       "      <td>\\n Hello,\\n   \\n         I just installed ...</td>\n",
       "      <td>../03-Classification/data/easy_ham/01061.66101...</td>\n",
       "    </tr>\n",
       "    <tr>\n",
       "      <th>1061</th>\n",
       "      <td>2002-02-01 06:53:41+00:00</td>\n",
       "      <td>lance_tt@bellsouth.net</td>\n",
       "      <td>re: please help a newbie compile mplayer :-)</td>\n",
       "      <td>Make sure you rebuild as root and you're in th...</td>\n",
       "      <td>../03-Classification/data/easy_ham/01062.ef795...</td>\n",
       "    </tr>\n",
       "    <tr>\n",
       "      <th>1062</th>\n",
       "      <td>2002-02-01 09:01:44+00:00</td>\n",
       "      <td>robinderbains@shaw.ca</td>\n",
       "      <td>re: please help a newbie compile mplayer :-)</td>\n",
       "      <td>Lance wrote:\\n\\n&gt;Make sure you rebuild as root...</td>\n",
       "      <td>../03-Classification/data/easy_ham/01063.ad344...</td>\n",
       "    </tr>\n",
       "    <tr>\n",
       "      <th>1063</th>\n",
       "      <td>2002-02-01 09:29:23+00:00</td>\n",
       "      <td>matthias@egwn.net</td>\n",
       "      <td>re: please help a newbie compile mplayer :-)</td>\n",
       "      <td>Once upon a time, rob wrote :\\n\\n&gt;  I dl'd gcc...</td>\n",
       "      <td>../03-Classification/data/easy_ham/01064.9f4fc...</td>\n",
       "    </tr>\n",
       "    <tr>\n",
       "      <th>1064</th>\n",
       "      <td>2002-02-01 13:00:22+00:00</td>\n",
       "      <td>harri.haataja@cs.helsinki.fi</td>\n",
       "      <td>http://apt.nixia.no/</td>\n",
       "      <td>\\n--6sX45UoQRIJXqkqR\\nContent-Type: text/plain...</td>\n",
       "      <td>../03-Classification/data/easy_ham/01065.b1ad1...</td>\n",
       "    </tr>\n",
       "  </tbody>\n",
       "</table>\n",
       "</div>"
      ],
      "text/plain": [
       "                          Date                         Email  \\\n",
       "1060 2002-02-01 05:44:14+00:00         robinderbains@shaw.ca   \n",
       "1061 2002-02-01 06:53:41+00:00        lance_tt@bellsouth.net   \n",
       "1062 2002-02-01 09:01:44+00:00         robinderbains@shaw.ca   \n",
       "1063 2002-02-01 09:29:23+00:00             matthias@egwn.net   \n",
       "1064 2002-02-01 13:00:22+00:00  harri.haataja@cs.helsinki.fi   \n",
       "\n",
       "                                           Subject  \\\n",
       "1060      please help a newbie compile mplayer :-)   \n",
       "1061  re: please help a newbie compile mplayer :-)   \n",
       "1062  re: please help a newbie compile mplayer :-)   \n",
       "1063  re: please help a newbie compile mplayer :-)   \n",
       "1064                          http://apt.nixia.no/   \n",
       "\n",
       "                                                   Body  \\\n",
       "1060      \\n Hello,\\n   \\n         I just installed ...   \n",
       "1061  Make sure you rebuild as root and you're in th...   \n",
       "1062  Lance wrote:\\n\\n>Make sure you rebuild as root...   \n",
       "1063  Once upon a time, rob wrote :\\n\\n>  I dl'd gcc...   \n",
       "1064  \\n--6sX45UoQRIJXqkqR\\nContent-Type: text/plain...   \n",
       "\n",
       "                                                   Path  \n",
       "1060  ../03-Classification/data/easy_ham/01061.66101...  \n",
       "1061  ../03-Classification/data/easy_ham/01062.ef795...  \n",
       "1062  ../03-Classification/data/easy_ham/01063.ad344...  \n",
       "1063  ../03-Classification/data/easy_ham/01064.9f4fc...  \n",
       "1064  ../03-Classification/data/easy_ham/01065.b1ad1...  "
      ]
     },
     "execution_count": 9,
     "metadata": {},
     "output_type": "execute_result"
    }
   ],
   "source": [
    "df.head()"
   ]
  },
  {
   "cell_type": "code",
   "execution_count": 10,
   "metadata": {},
   "outputs": [
    {
     "data": {
      "text/plain": [
       "(2500, 5)"
      ]
     },
     "execution_count": 10,
     "metadata": {},
     "output_type": "execute_result"
    }
   ],
   "source": [
    "df.shape"
   ]
  },
  {
   "cell_type": "markdown",
   "metadata": {},
   "source": [
    "Create train and test dataset"
   ]
  },
  {
   "cell_type": "code",
   "execution_count": 11,
   "metadata": {},
   "outputs": [
    {
     "name": "stdout",
     "output_type": "stream",
     "text": [
      "[(1250, 5), (1249, 5)]\n"
     ]
    }
   ],
   "source": [
    "# We will use the first half of the priority.df to train our priority in-box algorithm.\n",
    "# Later, we will use the second half to test.\n",
    "import numpy as np\n",
    "\n",
    "rows = int(df.shape[0] / 2)\n",
    "df_train = pd.DataFrame(df.iloc[:rows])\n",
    "df_test = pd.DataFrame(df.iloc[rows+1:])\n",
    "\n",
    "print([df_train.shape, df_test.shape])"
   ]
  },
  {
   "cell_type": "markdown",
   "metadata": {},
   "source": [
    "Group messages by thread"
   ]
  },
  {
   "cell_type": "code",
   "execution_count": 12,
   "metadata": {},
   "outputs": [],
   "source": [
    "def cleanSubject(subject):\n",
    "    if subject.startswith('re: '):\n",
    "        return subject[4:]\n",
    "    else:\n",
    "        subject\n",
    "    \n",
    "        \n",
    "df_train['Clean_Subject'] = df_train.apply(lambda row: cleanSubject(row.Subject), axis = 1) \n",
    "\n",
    "uniqueSubjects = df_train['Clean_Subject'].unique()\n",
    "uniqueSubjects = pd.DataFrame({'Clean_Subject': uniqueSubjects})\n",
    "uniqueSubjects['Thread_Index'] = uniqueSubjects.index\n",
    "\n",
    "df_train = pd.merge(df_train, uniqueSubjects, on='Clean_Subject')"
   ]
  },
  {
   "cell_type": "markdown",
   "metadata": {},
   "source": [
    "Group messages by mail"
   ]
  },
  {
   "cell_type": "code",
   "execution_count": 13,
   "metadata": {},
   "outputs": [],
   "source": [
    "uniqueMails = df_train['Email'].unique()\n",
    "uniqueMails = pd.DataFrame({'Email': uniqueMails})\n",
    "uniqueMails['Email_Index'] = uniqueMails.index\n",
    "\n",
    "df_train = pd.merge(df_train, uniqueMails, on='Email')"
   ]
  },
  {
   "cell_type": "markdown",
   "metadata": {},
   "source": [
    "Show thread and email popularity"
   ]
  },
  {
   "cell_type": "code",
   "execution_count": 14,
   "metadata": {},
   "outputs": [
    {
     "data": {
      "text/plain": [
       "java is for kiddies                                 27\n",
       "selling wedded bliss (was re: ouch...)              25\n",
       "sorting                                             21\n",
       "hanson's sept 11 message in the national review     19\n",
       "new sequences window                                18\n",
       "alsa (almost) made easy                             18\n",
       "[satalk] o.t. habeus -- why?                        18\n",
       "the gov gets tough on net users.....er pirates..    13\n",
       "secure sofware key                                  13\n",
       "slaughter in the name of god                        13\n",
       "Name: Clean_Subject, dtype: int64"
      ]
     },
     "execution_count": 14,
     "metadata": {},
     "output_type": "execute_result"
    }
   ],
   "source": [
    "df_train['Clean_Subject'].value_counts()[:10] "
   ]
  },
  {
   "cell_type": "code",
   "execution_count": 15,
   "metadata": {},
   "outputs": [
    {
     "data": {
      "text/plain": [
       "tim.one@comcast.net            45\n",
       "tomwhore@slack.net             37\n",
       "pudge@perl.org                 34\n",
       "garym@canada.com               29\n",
       "yyyy@spamassassin.taint.org    25\n",
       "skip@pobox.com                 24\n",
       "beberg@mithral.com             23\n",
       "matthias@egwn.net              23\n",
       "cdale@techmonkeys.net          21\n",
       "cwg-exmh@deepeddy.com          20\n",
       "Name: Email, dtype: int64"
      ]
     },
     "execution_count": 15,
     "metadata": {},
     "output_type": "execute_result"
    }
   ],
   "source": [
    "df_train['Email'].value_counts()[:10] "
   ]
  },
  {
   "cell_type": "markdown",
   "metadata": {},
   "source": [
    "Calculating the length of each thread "
   ]
  },
  {
   "cell_type": "code",
   "execution_count": 16,
   "metadata": {},
   "outputs": [
    {
     "data": {
      "text/html": [
       "<div>\n",
       "<style scoped>\n",
       "    .dataframe tbody tr th:only-of-type {\n",
       "        vertical-align: middle;\n",
       "    }\n",
       "\n",
       "    .dataframe tbody tr th {\n",
       "        vertical-align: top;\n",
       "    }\n",
       "\n",
       "    .dataframe thead th {\n",
       "        text-align: right;\n",
       "    }\n",
       "</style>\n",
       "<table border=\"1\" class=\"dataframe\">\n",
       "  <thead>\n",
       "    <tr style=\"text-align: right;\">\n",
       "      <th></th>\n",
       "      <th>Thread_Index</th>\n",
       "      <th>Length</th>\n",
       "    </tr>\n",
       "  </thead>\n",
       "  <tbody>\n",
       "    <tr>\n",
       "      <th>0</th>\n",
       "      <td>0.0</td>\n",
       "      <td>20109455.0</td>\n",
       "    </tr>\n",
       "    <tr>\n",
       "      <th>225</th>\n",
       "      <td>141.0</td>\n",
       "      <td>1402129.0</td>\n",
       "    </tr>\n",
       "    <tr>\n",
       "      <th>160</th>\n",
       "      <td>11.0</td>\n",
       "      <td>1390105.0</td>\n",
       "    </tr>\n",
       "    <tr>\n",
       "      <th>132</th>\n",
       "      <td>150.0</td>\n",
       "      <td>1380639.0</td>\n",
       "    </tr>\n",
       "    <tr>\n",
       "      <th>25</th>\n",
       "      <td>183.0</td>\n",
       "      <td>792234.0</td>\n",
       "    </tr>\n",
       "  </tbody>\n",
       "</table>\n",
       "</div>"
      ],
      "text/plain": [
       "     Thread_Index      Length\n",
       "0             0.0  20109455.0\n",
       "225         141.0   1402129.0\n",
       "160          11.0   1390105.0\n",
       "132         150.0   1380639.0\n",
       "25          183.0    792234.0"
      ]
     },
     "execution_count": 16,
     "metadata": {},
     "output_type": "execute_result"
    }
   ],
   "source": [
    "df_threads = pd.DataFrame({}, columns = ['Thread_Index', 'Length'])\n",
    "\n",
    "for thread_index in df_train['Thread_Index'].unique():\n",
    "    dates = df_train[df_train['Thread_Index'] == thread_index].Date\n",
    "    length = (dates.max() - dates.min()).total_seconds()\n",
    "    df_threads = df_threads.append({'Thread_Index': thread_index, 'Length': length}, ignore_index=True)\n",
    "\n",
    "df_threads.sort_values(by=['Length'], ascending = False).head()"
   ]
  },
  {
   "cell_type": "markdown",
   "metadata": {},
   "source": [
    "Calculating the number of mais per seconds in each thread"
   ]
  },
  {
   "cell_type": "code",
   "execution_count": 17,
   "metadata": {},
   "outputs": [
    {
     "data": {
      "text/html": [
       "<div>\n",
       "<style scoped>\n",
       "    .dataframe tbody tr th:only-of-type {\n",
       "        vertical-align: middle;\n",
       "    }\n",
       "\n",
       "    .dataframe tbody tr th {\n",
       "        vertical-align: top;\n",
       "    }\n",
       "\n",
       "    .dataframe thead th {\n",
       "        text-align: right;\n",
       "    }\n",
       "</style>\n",
       "<table border=\"1\" class=\"dataframe\">\n",
       "  <thead>\n",
       "    <tr style=\"text-align: right;\">\n",
       "      <th></th>\n",
       "      <th>Thread_Index</th>\n",
       "      <th>Length</th>\n",
       "      <th>Mails_Per_Second</th>\n",
       "    </tr>\n",
       "  </thead>\n",
       "  <tbody>\n",
       "    <tr>\n",
       "      <th>0</th>\n",
       "      <td>0.0</td>\n",
       "      <td>20109455.0</td>\n",
       "      <td>0.000000</td>\n",
       "    </tr>\n",
       "    <tr>\n",
       "      <th>1</th>\n",
       "      <td>1.0</td>\n",
       "      <td>9342.0</td>\n",
       "      <td>0.000321</td>\n",
       "    </tr>\n",
       "    <tr>\n",
       "      <th>2</th>\n",
       "      <td>2.0</td>\n",
       "      <td>259584.0</td>\n",
       "      <td>0.000035</td>\n",
       "    </tr>\n",
       "    <tr>\n",
       "      <th>3</th>\n",
       "      <td>6.0</td>\n",
       "      <td>239899.0</td>\n",
       "      <td>0.000021</td>\n",
       "    </tr>\n",
       "    <tr>\n",
       "      <th>4</th>\n",
       "      <td>8.0</td>\n",
       "      <td>11648.0</td>\n",
       "      <td>0.000515</td>\n",
       "    </tr>\n",
       "  </tbody>\n",
       "</table>\n",
       "</div>"
      ],
      "text/plain": [
       "   Thread_Index      Length  Mails_Per_Second\n",
       "0           0.0  20109455.0          0.000000\n",
       "1           1.0      9342.0          0.000321\n",
       "2           2.0    259584.0          0.000035\n",
       "3           6.0    239899.0          0.000021\n",
       "4           8.0     11648.0          0.000515"
      ]
     },
     "execution_count": 17,
     "metadata": {},
     "output_type": "execute_result"
    }
   ],
   "source": [
    "mails_in_threads = df_train['Thread_Index'].value_counts()\n",
    "\n",
    "def calculateMailsPerSecond(row):\n",
    "    thread_index = row['Thread_Index']\n",
    "    thread_length = row['Length']\n",
    "    \n",
    "    if (thread_index == 0) or (thread_length == 0):\n",
    "        mails_in_thread = 1\n",
    "        mails_per_second = 0\n",
    "    else:\n",
    "        mails_in_thread = mails_in_threads[thread_index]\n",
    "        mails_per_second = mails_in_thread / thread_length\n",
    "    \n",
    "    return mails_per_second\n",
    "    \n",
    "        \n",
    "df_threads['Mails_Per_Second'] = df_threads.apply(lambda row: calculateMailsPerSecond(row), axis = 1) \n",
    "df_threads.head()"
   ]
  },
  {
   "cell_type": "markdown",
   "metadata": {},
   "source": [
    "## Calculating scoring\n",
    "Scoring is a result of multiply two other scores:\n",
    " - scoring of mail popularity, if the mail is more popular (exists more often), the result is greater,\n",
    " - scoring of thread popularity, if the thread contains more messages per second, it's better.\n",
    " \n",
    "We need to add '1' to basic value because we can't calculate logarithm for '0' value. Additionally, we add 10 to result value, because, for value (0,1), the logarithm result is negative."
   ]
  },
  {
   "cell_type": "code",
   "execution_count": 18,
   "metadata": {},
   "outputs": [],
   "source": [
    "import math\n",
    "mails_popularity = df_train['Email'].value_counts()\n",
    "\n",
    "def calculateScore(row):\n",
    "    mail_popularity = mails_popularity[row['Email']]\n",
    "    mail_score = 10 + math.log(mail_popularity + 1)\n",
    "    \n",
    "    mails_per_second = df_threads[df_threads['Thread_Index'] == row['Thread_Index']].Mails_Per_Second\n",
    "    mails_per_second_score = 10 + math.log(mails_per_second + 1)\n",
    "    \n",
    "    return mail_score * mails_per_second_score\n",
    "\n",
    "df_train['Score'] = df_train.apply(lambda row: calculateScore(row), axis = 1) "
   ]
  },
  {
   "cell_type": "markdown",
   "metadata": {},
   "source": [
    "Show the result. Messages grouped in the same thread and mail have bigger scoring"
   ]
  },
  {
   "cell_type": "code",
   "execution_count": 19,
   "metadata": {},
   "outputs": [
    {
     "data": {
      "text/html": [
       "<div>\n",
       "<style scoped>\n",
       "    .dataframe tbody tr th:only-of-type {\n",
       "        vertical-align: middle;\n",
       "    }\n",
       "\n",
       "    .dataframe tbody tr th {\n",
       "        vertical-align: top;\n",
       "    }\n",
       "\n",
       "    .dataframe thead th {\n",
       "        text-align: right;\n",
       "    }\n",
       "</style>\n",
       "<table border=\"1\" class=\"dataframe\">\n",
       "  <thead>\n",
       "    <tr style=\"text-align: right;\">\n",
       "      <th></th>\n",
       "      <th>Date</th>\n",
       "      <th>Email</th>\n",
       "      <th>Subject</th>\n",
       "      <th>Body</th>\n",
       "      <th>Path</th>\n",
       "      <th>Clean_Subject</th>\n",
       "      <th>Thread_Index</th>\n",
       "      <th>Email_Index</th>\n",
       "      <th>Score</th>\n",
       "    </tr>\n",
       "  </thead>\n",
       "  <tbody>\n",
       "    <tr>\n",
       "      <th>625</th>\n",
       "      <td>2002-09-08 20:46:47+00:00</td>\n",
       "      <td>tim.one@comcast.net</td>\n",
       "      <td>[spambayes] hammie.py vs. gbayes.py</td>\n",
       "      <td>[Guido]\\n&gt; There seem to be two \"drivers\" for ...</td>\n",
       "      <td>../03-Classification/data/easy_ham/01724.9dd46...</td>\n",
       "      <td>None</td>\n",
       "      <td>0</td>\n",
       "      <td>135</td>\n",
       "      <td>138.286414</td>\n",
       "    </tr>\n",
       "    <tr>\n",
       "      <th>628</th>\n",
       "      <td>2002-09-09 03:36:00+00:00</td>\n",
       "      <td>tim.one@comcast.net</td>\n",
       "      <td>[spambayes] testing results</td>\n",
       "      <td>[Neil Schemenauer]\\n&gt; Woops.  I didn't have th...</td>\n",
       "      <td>../03-Classification/data/easy_ham/01729.01f5d...</td>\n",
       "      <td>None</td>\n",
       "      <td>0</td>\n",
       "      <td>135</td>\n",
       "      <td>138.286414</td>\n",
       "    </tr>\n",
       "    <tr>\n",
       "      <th>618</th>\n",
       "      <td>2002-09-08 07:18:49+00:00</td>\n",
       "      <td>tim.one@comcast.net</td>\n",
       "      <td>[spambayes] test sets?</td>\n",
       "      <td>[Guido]\\n&gt; I *meant* to say that they were 0.9...</td>\n",
       "      <td>../03-Classification/data/easy_ham/01715.30f57...</td>\n",
       "      <td>None</td>\n",
       "      <td>0</td>\n",
       "      <td>135</td>\n",
       "      <td>138.286414</td>\n",
       "    </tr>\n",
       "    <tr>\n",
       "      <th>619</th>\n",
       "      <td>2002-09-08 07:48:28+00:00</td>\n",
       "      <td>tim.one@comcast.net</td>\n",
       "      <td>[spambayes] test sets?</td>\n",
       "      <td>[Tim]\\n&gt; ...\\n&gt; I'd prefer to strip HTML tags ...</td>\n",
       "      <td>../03-Classification/data/easy_ham/01716.8e154...</td>\n",
       "      <td>None</td>\n",
       "      <td>0</td>\n",
       "      <td>135</td>\n",
       "      <td>138.286414</td>\n",
       "    </tr>\n",
       "    <tr>\n",
       "      <th>620</th>\n",
       "      <td>2002-09-08 18:28:02+00:00</td>\n",
       "      <td>tim.one@comcast.net</td>\n",
       "      <td>[spambayes] testing results</td>\n",
       "      <td>[Neil Schemenauer]\\n&gt; These results are from t...</td>\n",
       "      <td>../03-Classification/data/easy_ham/01719.a401d...</td>\n",
       "      <td>None</td>\n",
       "      <td>0</td>\n",
       "      <td>135</td>\n",
       "      <td>138.286414</td>\n",
       "    </tr>\n",
       "  </tbody>\n",
       "</table>\n",
       "</div>"
      ],
      "text/plain": [
       "                         Date                Email  \\\n",
       "625 2002-09-08 20:46:47+00:00  tim.one@comcast.net   \n",
       "628 2002-09-09 03:36:00+00:00  tim.one@comcast.net   \n",
       "618 2002-09-08 07:18:49+00:00  tim.one@comcast.net   \n",
       "619 2002-09-08 07:48:28+00:00  tim.one@comcast.net   \n",
       "620 2002-09-08 18:28:02+00:00  tim.one@comcast.net   \n",
       "\n",
       "                                 Subject  \\\n",
       "625  [spambayes] hammie.py vs. gbayes.py   \n",
       "628          [spambayes] testing results   \n",
       "618               [spambayes] test sets?   \n",
       "619               [spambayes] test sets?   \n",
       "620          [spambayes] testing results   \n",
       "\n",
       "                                                  Body  \\\n",
       "625  [Guido]\\n> There seem to be two \"drivers\" for ...   \n",
       "628  [Neil Schemenauer]\\n> Woops.  I didn't have th...   \n",
       "618  [Guido]\\n> I *meant* to say that they were 0.9...   \n",
       "619  [Tim]\\n> ...\\n> I'd prefer to strip HTML tags ...   \n",
       "620  [Neil Schemenauer]\\n> These results are from t...   \n",
       "\n",
       "                                                  Path Clean_Subject  \\\n",
       "625  ../03-Classification/data/easy_ham/01724.9dd46...          None   \n",
       "628  ../03-Classification/data/easy_ham/01729.01f5d...          None   \n",
       "618  ../03-Classification/data/easy_ham/01715.30f57...          None   \n",
       "619  ../03-Classification/data/easy_ham/01716.8e154...          None   \n",
       "620  ../03-Classification/data/easy_ham/01719.a401d...          None   \n",
       "\n",
       "     Thread_Index  Email_Index       Score  \n",
       "625             0          135  138.286414  \n",
       "628             0          135  138.286414  \n",
       "618             0          135  138.286414  \n",
       "619             0          135  138.286414  \n",
       "620             0          135  138.286414  "
      ]
     },
     "execution_count": 19,
     "metadata": {},
     "output_type": "execute_result"
    }
   ],
   "source": [
    "df_train.sort_values(by=['Score'], ascending = False).head()"
   ]
  },
  {
   "cell_type": "markdown",
   "metadata": {},
   "source": [
    "## To be continue"
   ]
  }
 ],
 "metadata": {
  "kernelspec": {
   "display_name": "Python 3",
   "language": "python",
   "name": "python3"
  },
  "language_info": {
   "codemirror_mode": {
    "name": "ipython",
    "version": 3
   },
   "file_extension": ".py",
   "mimetype": "text/x-python",
   "name": "python",
   "nbconvert_exporter": "python",
   "pygments_lexer": "ipython3",
   "version": "3.6.5"
  }
 },
 "nbformat": 4,
 "nbformat_minor": 2
}
