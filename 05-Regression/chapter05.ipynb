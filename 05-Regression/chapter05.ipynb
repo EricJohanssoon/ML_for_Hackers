{
 "cells": [
  {
   "cell_type": "markdown",
   "metadata": {},
   "source": [
    "## Chapter 5\n",
    "Snippets for the chapter 5"
   ]
  },
  {
   "cell_type": "markdown",
   "metadata": {},
   "source": [
    "Load data"
   ]
  },
  {
   "cell_type": "code",
   "execution_count": null,
   "metadata": {},
   "outputs": [],
   "source": [
    "import pandas as pd\n",
    "\n",
    "df = pd.read_csv('data/longevity.csv')\n",
    "df.shape"
   ]
  },
  {
   "cell_type": "markdown",
   "metadata": {},
   "source": [
    "Create density plot of 1,000 people’s life spans, facetted by smokers"
   ]
  },
  {
   "cell_type": "code",
   "execution_count": null,
   "metadata": {},
   "outputs": [],
   "source": [
    "%matplotlib inline\n",
    "from plotnine import *\n",
    "\n",
    "fig = (\n",
    "    ggplot(data = df, mapping=aes(x = 'AgeAtDeath',  fill = 'factor(Smokes)')) +\n",
    "    geom_density() +\n",
    "    facet_grid(('Smokes', '.'))\n",
    ")\n",
    "\n",
    "fig"
   ]
  },
  {
   "cell_type": "markdown",
   "metadata": {},
   "source": [
    "Calculate MSE using the mean of AgeAtDeath (73)"
   ]
  },
  {
   "cell_type": "code",
   "execution_count": null,
   "metadata": {},
   "outputs": [],
   "source": [
    "import numpy as np\n",
    "\n",
    "guess = 73\n",
    "np.square(df['AgeAtDeath'] - guess).mean()"
   ]
  },
  {
   "cell_type": "markdown",
   "metadata": {},
   "source": [
    "Calculate MSE for another values"
   ]
  },
  {
   "cell_type": "code",
   "execution_count": null,
   "metadata": {},
   "outputs": [],
   "source": [
    "df_accurancy = pd.DataFrame({}, columns = ['Guess', 'Error'])\n",
    "\n",
    "for age in range(63, 83):\n",
    "    error = np.square(df['AgeAtDeath'] - age).mean()\n",
    "    df_accurancy = df_accurancy.append({'Guess': age, 'Error': error}, ignore_index=True)\n",
    "    \n",
    "fig = (\n",
    "    ggplot(data = df_accurancy, mapping=aes(x = 'Guess',  y = 'Error')) +\n",
    "    geom_point() +\n",
    "    geom_line()\n",
    ")\n",
    "\n",
    "fig"
   ]
  },
  {
   "cell_type": "markdown",
   "metadata": {},
   "source": [
    "## To be continue"
   ]
  }
 ],
 "metadata": {
  "kernelspec": {
   "display_name": "Python 3",
   "language": "python",
   "name": "python3"
  },
  "language_info": {
   "codemirror_mode": {
    "name": "ipython",
    "version": 3
   },
   "file_extension": ".py",
   "mimetype": "text/x-python",
   "name": "python",
   "nbconvert_exporter": "python",
   "pygments_lexer": "ipython3",
   "version": "3.6.5"
  }
 },
 "nbformat": 4,
 "nbformat_minor": 2
}
